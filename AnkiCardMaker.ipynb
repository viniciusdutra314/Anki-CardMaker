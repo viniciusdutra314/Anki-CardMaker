{
  "nbformat": 4,
  "nbformat_minor": 0,
  "metadata": {
    "colab": {
      "provenance": [],
      "authorship_tag": "ABX9TyONmK6d/MpAhDYgh/mqwuTR",
      "include_colab_link": true
    },
    "kernelspec": {
      "name": "python3",
      "display_name": "Python 3"
    },
    "language_info": {
      "name": "python"
    }
  },
  "cells": [
    {
      "cell_type": "markdown",
      "metadata": {
        "id": "view-in-github",
        "colab_type": "text"
      },
      "source": [
        "<a href=\"https://colab.research.google.com/github/viniciusdutra314/Anki-CardMaker/blob/main/AnkiCardMaker.ipynb\" target=\"_parent\"><img src=\"https://colab.research.google.com/assets/colab-badge.svg\" alt=\"Open In Colab\"/></a>"
      ]
    },
    {
      "cell_type": "markdown",
      "source": [
        "# Welcome to **Anki CardMaker**!\n",
        "\n",
        "Now you will create a deck to install the template on your Anki. If you have any questions, go to the [GitHub repository](https://github.com/viniciusdutra314/Anki-CardMaker).\n",
        "\n",
        "# **IMPORTANT:**\n",
        "\n",
        "If you are not sure about your language code, go to this [website](https://www.andiamo.co.uk/resources/iso-language-codes/). (Don't use non-regional codes, the code **needs to have 4 letters**).\n",
        "\n",
        "Before selecting the accent, **be sure that your devices have text-to-speech support for this specific accent**."
      ],
      "metadata": {
        "id": "dh7MSv9SeHiv"
      }
    },
    {
      "cell_type": "code",
      "source": [
        "# @title Create your own template (Click on  ▶️ to run){ display-mode: \"form\" }\n",
        "\n",
        "language = \"The language you're studying should be in a 4-letter langcode (example: it_IT)\" # @param {type:\"string\"}\n",
        "translation='Your native language should be in a 4-letter langcode (example: en_US)' # @param {type:\"string\"}\n",
        "dictionary = 'reverso' # @param [\"reverso\", \"cambridge\"]\n",
        "\n",
        "color='red' # @param [\"red\",\"orange\",\"yellow\",\"green\",\"blue\",\"purple\",\"pink\"]\n",
        "template_name=\"the name that will appear on anki\" # @param {type:\"string\"}\n",
        "passive_cards=True # @param {type:\"boolean\"}\n",
        "active_cards=True # @param {type:\"boolean\"}\n",
        "writing_cards=False # @param {type:\"boolean\"}\n",
        "optional_additional_voices=\"\"\n",
        "cardtypes_bools=\" \".join([str(passive_cards),\n",
        "                          str(active_cards),\n",
        "                          str(writing_cards)])\n",
        "from subprocess import run,PIPE\n",
        "try:\n",
        "  from rich import print\n",
        "except:\n",
        "  run([\"pip\",\"install\",\"rich\",\"--quiet\"])\n",
        "try:\n",
        "  import genanki\n",
        "  import langcodes\n",
        "except:\n",
        "  print(\"[green] Installing dependencies... [/green]\")\n",
        "  run([\"pip\",\"install\",\"genanki\",\"--quiet\"])\n",
        "  run([\"pip\", \"install\",\"langcodes[data]\", \"--quiet\"])\n",
        "import os\n",
        "if not os.path.exists(\"Anki-CardMaker\"):\n",
        "  print(\"[green] Cloning the Anki-CardMaker source code... (2/3)[/green]\")\n",
        "  run([\"git\",\"clone\",\"https://github.com/viniciusdutra314/Anki-CardMaker\"])\n",
        "\n",
        "print(\"[green] Making the deck... [/green]\")\n",
        "process=run([\"python3\",\"/content/Anki-CardMaker/anki_cardmaker.py\",\"--mother_tongue\",translation,\n",
        "             \"--target_lang\",language,\"--cardtypes_dir\",\"/content/Anki-CardMaker/cardtypes\",\n",
        "             \"--template_name\",template_name.replace(\" \",\"_\"),\"--highlight_color\",color,\n",
        "             \"--cardtypes_bools\",cardtypes_bools,\"--dictionary\",dictionary],stdout=PIPE,text=True,stderr=PIPE)\n",
        "print(f\"[red]{process.stdout}[/red]\")\n",
        "if not process.returncode:\n",
        "  print(\"[green] Your template is ready! Download it on your left at the Files menu 📁 \")\n",
        "  from google.colab import files\n",
        "  files.download(f'/content/{template_name.replace(\" \",\"_\")}.apkg')"
      ],
      "metadata": {
        "id": "0jzCvdyZeJGB"
      },
      "execution_count": null,
      "outputs": []
    },
    {
      "cell_type": "markdown",
      "source": [
        "After downloading your `template_name.apkg`, double-click it, select \"import\", and now you should have a deck with cards using the template. It's recommended to open it and test if the voices are working. After testing, you can simply delete the deck and enjoy the new template!\n",
        "\n",
        "<p float=\"left\">\n",
        "    <img src=\"https://raw.githubusercontent.com/viniciusdutra314/Anki-CardMaker/main/images/google_colab/import_template.png\" width=500>\n",
        "    <img src=\"https://raw.githubusercontent.com/viniciusdutra314/Anki-CardMaker/main/images/google_colab/anki_deck.png\" width=500>\n",
        "</p>"
      ],
      "metadata": {
        "id": "am8zERVjeN4R"
      }
    }
  ]
}