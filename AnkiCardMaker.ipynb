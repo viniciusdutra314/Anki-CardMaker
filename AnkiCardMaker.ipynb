{
  "nbformat": 4,
  "nbformat_minor": 0,
  "metadata": {
    "colab": {
      "provenance": [],
      "authorship_tag": "ABX9TyOr7zj8ymG55MMU+2MFyMZQ",
      "include_colab_link": true
    },
    "kernelspec": {
      "name": "python3",
      "display_name": "Python 3"
    },
    "language_info": {
      "name": "python"
    }
  },
  "cells": [
    {
      "cell_type": "markdown",
      "metadata": {
        "id": "view-in-github",
        "colab_type": "text"
      },
      "source": [
        "<a href=\"https://colab.research.google.com/github/viniciusdutra314/Anki-CardMaker/blob/main/AnkiCardMaker.ipynb\" target=\"_parent\"><img src=\"https://colab.research.google.com/assets/colab-badge.svg\" alt=\"Open In Colab\"/></a>"
      ]
    },
    {
      "cell_type": "markdown",
      "source": [
        "# Welcome to **Anki CardMaker**!\n",
        "If you are not sure about your language code, go to this [website](https://www.andiamo.co.uk/resources/iso-language-codes/). (Don't use non-regional codes, the code **needs to have 4 letters**)\n",
        "\n",
        "Before selecting the accent **be sure that your devices have text-to-speech support to this specific accent**"
      ],
      "metadata": {
        "id": "W1isB5F_JFlL"
      }
    },
    {
      "cell_type": "code",
      "execution_count": 2,
      "metadata": {
        "id": "4PlW-rYmGAWG",
        "colab": {
          "base_uri": "https://localhost:8080/",
          "height": 67
        },
        "outputId": "d51024e9-37d6-4423-dac8-c8c7362658f9"
      },
      "outputs": [
        {
          "output_type": "display_data",
          "data": {
            "text/plain": [
              "\u001b[32m Cloning the Anki-CardMaker source code\u001b[0m\u001b[32m...\u001b[0m\u001b[32m \u001b[0m\u001b[1;32m(\u001b[0m\u001b[1;32m2\u001b[0m\u001b[32m/\u001b[0m\u001b[1;32m3\u001b[0m\u001b[1;32m)\u001b[0m\n"
            ],
            "text/html": [
              "<pre style=\"white-space:pre;overflow-x:auto;line-height:normal;font-family:Menlo,'DejaVu Sans Mono',consolas,'Courier New',monospace\"><span style=\"color: #008000; text-decoration-color: #008000\"> Cloning the Anki-CardMaker source code... </span><span style=\"color: #008000; text-decoration-color: #008000; font-weight: bold\">(</span><span style=\"color: #008000; text-decoration-color: #008000; font-weight: bold\">2</span><span style=\"color: #008000; text-decoration-color: #008000\">/</span><span style=\"color: #008000; text-decoration-color: #008000; font-weight: bold\">3</span><span style=\"color: #008000; text-decoration-color: #008000; font-weight: bold\">)</span>\n",
              "</pre>\n"
            ]
          },
          "metadata": {}
        },
        {
          "output_type": "display_data",
          "data": {
            "text/plain": [
              "\u001b[32m Making the \u001b[0m\u001b[1;32mdeck...\u001b[0m\u001b[1;32m(\u001b[0m\u001b[1;32m3\u001b[0m\u001b[32m/\u001b[0m\u001b[1;32m3\u001b[0m\u001b[1;32m)\u001b[0m\u001b[32m \u001b[0m\n"
            ],
            "text/html": [
              "<pre style=\"white-space:pre;overflow-x:auto;line-height:normal;font-family:Menlo,'DejaVu Sans Mono',consolas,'Courier New',monospace\"><span style=\"color: #008000; text-decoration-color: #008000\"> Making the </span><span style=\"color: #008000; text-decoration-color: #008000; font-weight: bold\">deck...(</span><span style=\"color: #008000; text-decoration-color: #008000; font-weight: bold\">3</span><span style=\"color: #008000; text-decoration-color: #008000\">/</span><span style=\"color: #008000; text-decoration-color: #008000; font-weight: bold\">3</span><span style=\"color: #008000; text-decoration-color: #008000; font-weight: bold\">)</span><span style=\"color: #008000; text-decoration-color: #008000\"> </span>\n",
              "</pre>\n"
            ]
          },
          "metadata": {}
        },
        {
          "output_type": "display_data",
          "data": {
            "text/plain": [
              "\n"
            ],
            "text/html": [
              "<pre style=\"white-space:pre;overflow-x:auto;line-height:normal;font-family:Menlo,'DejaVu Sans Mono',consolas,'Courier New',monospace\">\n",
              "</pre>\n"
            ]
          },
          "metadata": {}
        },
        {
          "output_type": "display_data",
          "data": {
            "text/plain": [
              "\u001b[32m Your template is ready! Download it on the Files menu in your left\u001b[0m\n"
            ],
            "text/html": [
              "<pre style=\"white-space:pre;overflow-x:auto;line-height:normal;font-family:Menlo,'DejaVu Sans Mono',consolas,'Courier New',monospace\"><span style=\"color: #008000; text-decoration-color: #008000\"> Your template is ready! Download it on the Files menu in your left</span>\n",
              "</pre>\n"
            ]
          },
          "metadata": {}
        }
      ],
      "source": [
        "# @title Create your own template (Click on  ▶️ to run){ display-mode: \"form\" }\n",
        "\n",
        "mother_tongue = 'de' # @param {type:\"string\"}\n",
        "target_language='ja_JP' # @param {type:\"string\"}\n",
        "dictionary = 'reverso' # @param [\"reverso\", \"cambridge\"]\n",
        "\n",
        "highlight_color='purple' # @param {type:\"string\"}\n",
        "name_of_the_template=\"so_de_brincadeira\" # @param {type:\"string\"}\n",
        "passive_cards=False # @param {type:\"boolean\"}\n",
        "active_cards=True # @param {type:\"boolean\"}\n",
        "writing_cards=True # @param {type:\"boolean\"}\n",
        "optional_additional_voices=\"\" # @param {type:\"string\"}\n",
        "cardtypes_bools=\" \".join([str(passive_cards),\n",
        "                          str(active_cards),\n",
        "                          str(writing_cards)])\n",
        "from subprocess import run,PIPE\n",
        "try:\n",
        "  from rich import print\n",
        "except:\n",
        "  run([\"pip\",\"install\",\"rich\",\"--quiet\"])\n",
        "try:\n",
        "  import genanki\n",
        "  import langcodes\n",
        "except:\n",
        "  print(\"[green] Installing dependencies... (1/3) [/green]\")\n",
        "  run([\"pip\",\"install\",\"genanki\",\"--quiet\"])\n",
        "  run([\"pip\", \"install\",\"langcodes[data]\", \"--quiet\"])\n",
        "import os\n",
        "print(\"[green] Cloning the Anki-CardMaker source code... (2/3)[/green]\")\n",
        "run([\"git\",\"clone\",\"https://github.com/viniciusdutra314/Anki-CardMaker\"])\n",
        "\n",
        "print(\"[green] Making the deck...(3/3) [/green]\")\n",
        "process=run([\"python3\",\"/content/Anki-CardMaker/anki_cardmaker.py\",\"--mother_tongue\",mother_tongue,\n",
        "             \"--target_lang\",target_language,\"--cardtypes_dir\",\"/content/Anki-CardMaker/cardtypes\",\n",
        "             \"--template_name\",name_of_the_template.replace(\" \",\"_\"),\"--highlight_color\",highlight_color,\n",
        "             \"--cardtypes_bools\",cardtypes_bools,\"--dictionary\",dictionary],stdout=PIPE,text=True,stderr=PIPE)\n",
        "print(process.stderr)\n",
        "print(\"[green] Your template is ready! Download it on the Files menu in your left\")"
      ]
    }
  ]
}